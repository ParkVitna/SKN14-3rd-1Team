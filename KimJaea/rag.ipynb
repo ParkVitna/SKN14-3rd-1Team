{
 "cells": [
  {
   "cell_type": "code",
   "id": "initial_id",
   "metadata": {
    "collapsed": true,
    "ExecuteTime": {
     "end_time": "2025-07-15T03:17:45.608692Z",
     "start_time": "2025-07-15T03:17:43.257219Z"
    }
   },
   "source": [
    "import os\n",
    "import pandas as pd\n",
    "import numpy as np\n",
    "import faiss\n",
    "from openai import OpenAI\n",
    "from dotenv import load_dotenv\n",
    "from tqdm import tqdm\n",
    "\n",
    "# .env에 저장된 OPENAI_API_KEY 사용\n",
    "load_dotenv()\n",
    "client = OpenAI()"
   ],
   "outputs": [],
   "execution_count": 1
  },
  {
   "metadata": {
    "ExecuteTime": {
     "end_time": "2025-07-15T03:33:05.329767Z",
     "start_time": "2025-07-15T03:24:37.471605Z"
    }
   },
   "cell_type": "code",
   "source": [
    "# 데이터 불러오기\n",
    "df_full = pd.read_csv('rag_chunks_with_embeddings.csv', encoding='utf-8-sig', engine='python')\n",
    "\n",
    "# 데이터 1% 랜덤 샘플링 (random_state로 고정하면 재현 가능)\n",
    "df_sampled = df_full.sample(frac=0.01, random_state=42).reset_index(drop=True)\n",
    "\n",
    "# OpenAI 임베딩 함수는 그대로 사용\n",
    "def embed_text(text, model=\"text-embedding-ada-002\"):\n",
    "    response = client.embeddings.create(\n",
    "        input=[text],\n",
    "        model=model\n",
    "    )\n",
    "    return response.data[0].embedding\n",
    "\n",
    "# 샘플 데이터에 대해 임베딩 생성\n",
    "from tqdm import tqdm\n",
    "new_embeddings = []\n",
    "for idx, text in tqdm(enumerate(df_sampled['text']), total=len(df_sampled)):\n",
    "    try:\n",
    "        embedding = embed_text(text)\n",
    "        new_embeddings.append(embedding)\n",
    "    except Exception as e:\n",
    "        print(f\"{idx}번 임베딩 오류: {e}\")\n",
    "        new_embeddings.append([0.0] * 1536)\n",
    "\n",
    "df_sampled['embedding'] = new_embeddings\n",
    "df_sampled.to_csv('rag_chunks_with_embeddings_sampled.csv', index=False, encoding='utf-8-sig')\n"
   ],
   "id": "6eb4b5ead48f79d0",
   "outputs": [
    {
     "name": "stderr",
     "output_type": "stream",
     "text": [
      "100%|██████████| 1234/1234 [08:18<00:00,  2.48it/s]\n"
     ]
    }
   ],
   "execution_count": 3
  },
  {
   "metadata": {
    "ExecuteTime": {
     "end_time": "2025-07-15T03:33:37.128591Z",
     "start_time": "2025-07-15T03:33:31.516556Z"
    }
   },
   "cell_type": "code",
   "source": [
    "df = pd.read_csv('rag_chunks_with_embeddings_sampled.csv', encoding='utf-8-sig', engine='python')\n",
    "\n",
    "df['embedding'] = df['embedding'].apply(eval)  # 문자열을 리스트로 변환\n",
    "embeddings = np.array(df['embedding'].tolist()).astype('float32')"
   ],
   "id": "17f5ab9d42d62eeb",
   "outputs": [],
   "execution_count": 5
  },
  {
   "metadata": {
    "ExecuteTime": {
     "end_time": "2025-07-15T03:33:41.336951Z",
     "start_time": "2025-07-15T03:33:41.327707Z"
    }
   },
   "cell_type": "code",
   "source": [
    "dimension = embeddings.shape[1]\n",
    "index = faiss.IndexFlatIP(dimension)\n",
    "\n",
    "faiss.normalize_L2(embeddings)  # 정규화\n",
    "index.add(embeddings)"
   ],
   "id": "8d7b9fc2b56e15c1",
   "outputs": [],
   "execution_count": 6
  },
  {
   "metadata": {
    "ExecuteTime": {
     "end_time": "2025-07-15T03:33:45.582144Z",
     "start_time": "2025-07-15T03:33:45.576856Z"
    }
   },
   "cell_type": "code",
   "source": [
    "def llm_api_call(prompt, model=\"gpt-4o-mini\", temperature=0.7, max_tokens=500):\n",
    "    response = client.chat.completions.create(\n",
    "        model=model,\n",
    "        messages=[{\"role\": \"user\", \"content\": prompt}],\n",
    "        temperature=temperature,\n",
    "        max_tokens=max_tokens\n",
    "    )\n",
    "    return response.choices[0].message.content.strip()"
   ],
   "id": "19b57b486dd3700",
   "outputs": [],
   "execution_count": 7
  },
  {
   "metadata": {
    "ExecuteTime": {
     "end_time": "2025-07-15T03:33:49.792249Z",
     "start_time": "2025-07-15T03:33:49.777570Z"
    }
   },
   "cell_type": "code",
   "source": [
    "def search_similar_chunks(query, top_k=5):\n",
    "    query_vec = embed_text(query)\n",
    "    query_vec = np.array(query_vec).astype('float32').reshape(1, -1)\n",
    "    faiss.normalize_L2(query_vec)\n",
    "\n",
    "    D, I = index.search(query_vec, top_k)\n",
    "    return df.iloc[I[0]]"
   ],
   "id": "f2fc7c589fe20856",
   "outputs": [],
   "execution_count": 8
  },
  {
   "metadata": {
    "ExecuteTime": {
     "end_time": "2025-07-15T03:33:54.597480Z",
     "start_time": "2025-07-15T03:33:54.582429Z"
    }
   },
   "cell_type": "code",
   "source": [
    "def query_vitamin_chatbot(user_question, top_k=5):\n",
    "    retrieved_chunks = search_similar_chunks(user_question, top_k=top_k)\n",
    "    context = \"\\n\".join(retrieved_chunks['text'].tolist())\n",
    "\n",
    "    prompt = f\"\"\"다음은 건강기능식품 비타민 관련 정보입니다.\n",
    "다음을 참고하여 사용자 질문에 성의껏 답변해주세요.\n",
    "\n",
    "{context}\n",
    "\n",
    "사용자 질문: {user_question}\n",
    "\n",
    "답변:\"\"\"\n",
    "\n",
    "    return llm_api_call(prompt)"
   ],
   "id": "c33373e8b8679cf6",
   "outputs": [],
   "execution_count": 9
  },
  {
   "metadata": {
    "ExecuteTime": {
     "end_time": "2025-07-15T03:39:30.383885Z",
     "start_time": "2025-07-15T03:39:25.779501Z"
    }
   },
   "cell_type": "code",
   "source": [
    "question = \"위장 장애를 완화할 수 있는 비타민 추천\"\n",
    "answer = query_vitamin_chatbot(question)\n",
    "print(answer)"
   ],
   "id": "360b60823aae7ec1",
   "outputs": [
    {
     "name": "stdout",
     "output_type": "stream",
     "text": [
      "위장 장애를 완화하는 데 도움을 줄 수 있는 특정 비타민은 없지만, 일반적으로 소화 건강에 긍정적인 영향을 미칠 수 있는 비타민과 미네랄이 있습니다. 예를 들어, 비타민B군은 에너지 대사와 소화에 중요한 역할을 하며, 특히 비타민B1, 비타민B2, 비타민B6, 비타민B12 등이 소화 기능에 도움을 줄 수 있습니다. \n",
      "\n",
      "또한, 비타민C는 면역 체계를 지원하고 결합조직 형성에 필요합니다. 이러한 비타민을 포함한 건강기능식품으로는 '피로개선 활력비타민'과 같은 제품이 있습니다. 이 제품에는 여러 비타민B군이 포함되어 있어 에너지 대사와 소화 건강에 도움을 줄 수 있습니다.\n",
      "\n",
      "그러나 위장 장애가 지속되거나 심각한 경우에는 전문가와 상담하여 정확한 원인을 파악하고 적절한 치료를 받는 것이 중요합니다.\n"
     ]
    }
   ],
   "execution_count": 12
  }
 ],
 "metadata": {
  "kernelspec": {
   "display_name": "Python 3",
   "language": "python",
   "name": "python3"
  },
  "language_info": {
   "codemirror_mode": {
    "name": "ipython",
    "version": 2
   },
   "file_extension": ".py",
   "mimetype": "text/x-python",
   "name": "python",
   "nbconvert_exporter": "python",
   "pygments_lexer": "ipython2",
   "version": "2.7.6"
  }
 },
 "nbformat": 4,
 "nbformat_minor": 5
}
