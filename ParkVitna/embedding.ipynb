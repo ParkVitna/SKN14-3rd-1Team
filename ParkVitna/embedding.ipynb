{
 "cells": [
  {
   "cell_type": "markdown",
   "source": [
    "# 테스트 api 호출용"
   ],
   "metadata": {
    "collapsed": false
   },
   "id": "96460134cb7d731e"
  },
  {
   "cell_type": "code",
   "execution_count": 43,
   "outputs": [
    {
     "name": "stdout",
     "output_type": "stream",
     "text": [
      "{'body': {'items': [{'item': {'BASE_STANDARD': '1. 성상 : 고유의 향미가 있고 이미·이취가 없는 '\n",
      "                                               '노랑 하양색의 입자성이 있는 분말\\n'\n",
      "                                               '2. 프로바이오틱스 수(표시량 '\n",
      "                                               '300,000,000,000(3,000억) CFU/g) '\n",
      "                                               ': 표시량 이상\\n'\n",
      "                                               '3. 대장균군 : 음성\\n'\n",
      "                                               '4. 납 : 1.0 mg/kg 이하\\n'\n",
      "                                               '5. 카드뮴 : 0.3 mg/kg 이하',\n",
      "                              'DISTB_PD': '제조일로부터 24개월까지',\n",
      "                              'ENTRPS': '일동바이오사이언스(주)',\n",
      "                              'INTAKE_HINT1': '1. 질환이 있거나 의약품 복용 시 전문가와 '\n",
      "                                              '상담하십시오.\\n'\n",
      "                                              '2. 알레르기 체질 등은 개인에 따라 과민반응을 나타낼 '\n",
      "                                              '수 있습니다.\\n'\n",
      "                                              '3. 어린이가 함부로 섭취하지 않도록 일일섭취량 방법을 '\n",
      "                                              '지도해 주십시오.\\n'\n",
      "                                              '4. 이상사례 발생 시 섭취를 중단하고 전문가와 '\n",
      "                                              '상담하십시오.',\n",
      "                              'MAIN_FNCTN': '유산균 증식 및 유해균 억제·배변활동 원활에 도움을 줄 수 '\n",
      "                                            '있음',\n",
      "                              'PRDUCT': ' 11종 혼합유산균',\n",
      "                              'PRSRV_PD': '냉장조건',\n",
      "                              'REGIST_DT': '20201027',\n",
      "                              'SRV_USE': '건강기능식품 원료로 사용',\n",
      "                              'STTEMNT_NO': '20140017002183',\n",
      "                              'SUNGSANG': '고유의 향미가 있고 이미·이취가 없는 노랑 하양색의 입자성이 '\n",
      "                                          '있는 분말'}}],\n",
      "          'numOfRows': 1,\n",
      "          'pageNo': 1,\n",
      "          'totalCount': 41684},\n",
      " 'header': {'resultCode': '00', 'resultMsg': 'NORMAL SERVICE.'}}\n"
     ]
    }
   ],
   "source": [
    "import requests\n",
    "from pprint import pprint\n",
    "from dotenv import load_dotenv\n",
    "import os\n",
    "\n",
    "load_dotenv()\n",
    "\n",
    "url = 'https://apis.data.go.kr/1471000/HtfsInfoService03/getHtfsItem01?'\n",
    "\n",
    "# 3) 요청 변수(params) 세팅\n",
    "params = {\n",
    "    \"pageNo\":    \"1\",          # 페이지 번호\n",
    "    \"numOfRows\": \"1\",         # 한 페이지 결과 수\n",
    "    \"ServiceKey\": os.environ.get('DECODING_KEY'), # Swagger에 표시된 정확한 이름(ServiceKey)\n",
    "    \"type\":      \"json\",       # 응답 포맷(xml/json) – default: xml\n",
    "    # (필요시 API별 추가 파라미터를 여기에 더합니다)\n",
    "}\n",
    "\n",
    "# 4) 실제 요청 보내기\n",
    "response = requests.get(url, params=params, timeout=10)\n",
    "response.raise_for_status()\n",
    "\n",
    "# 5) 결과 확인\n",
    "pprint(response.json())"
   ],
   "metadata": {
    "collapsed": false,
    "ExecuteTime": {
     "end_time": "2025-07-14T14:52:42.051011Z",
     "start_time": "2025-07-14T14:52:41.335666Z"
    }
   },
   "id": "initial_id"
  },
  {
   "cell_type": "markdown",
   "source": [
    "# vector database embedding"
   ],
   "metadata": {
    "collapsed": false
   },
   "id": "30edade4f4b1e88e"
  },
  {
   "cell_type": "code",
   "execution_count": 41,
   "outputs": [
    {
     "name": "stdout",
     "output_type": "stream",
     "text": [
      "['adv-rag-compressed', 'adv-rag-meta', 'winemag-review-data', 'adv-rag']\n",
      "supplement-rag index 생성완료!\n"
     ]
    }
   ],
   "source": [
    "from pinecone import Pinecone, ServerlessSpec\n",
    "\n",
    "pc = Pinecone()\n",
    "print(pc.list_indexes().names())\n",
    "\n",
    "PINECONE_INDEX_NAME = 'supplement-rag'\n",
    "PINECONE_INDEX_REGION = 'us-east-1'\n",
    "PINECONE_INDEX_CLOUD = 'aws'\n",
    "PINECONE_INDEX_METRIC = 'cosine'\n",
    "PINECONE_INDEX_DIMENSION = 1536\n",
    "\n",
    "OPENAI_LLM_MODEL = 'gpt-4o-mini'\n",
    "OPENAI_EMBEDDING_MODEL = 'text-embedding-3-small'\n",
    "\n",
    "if PINECONE_INDEX_NAME not in pc.list_indexes().names():\n",
    "    pc.create_index(\n",
    "        name=PINECONE_INDEX_NAME,\n",
    "        dimension=PINECONE_INDEX_DIMENSION,\n",
    "        metric=PINECONE_INDEX_METRIC,\n",
    "        spec=ServerlessSpec(\n",
    "            region=PINECONE_INDEX_REGION,\n",
    "            cloud=PINECONE_INDEX_CLOUD,\n",
    "        )\n",
    "    )\n",
    "    print(f'{PINECONE_INDEX_NAME} index 생성완료!')\n",
    "else:\n",
    "    print(f'{PINECONE_INDEX_NAME} index가 이미 존재합니다.')"
   ],
   "metadata": {
    "collapsed": false,
    "ExecuteTime": {
     "end_time": "2025-07-14T14:50:09.401277Z",
     "start_time": "2025-07-14T14:50:03.053572Z"
    }
   },
   "id": "6bc07e8b19cba3e5"
  },
  {
   "cell_type": "code",
   "execution_count": 42,
   "outputs": [
    {
     "name": "stderr",
     "output_type": "stream",
     "text": [
      "100%|██████████| 100/100 [00:00<00:00, 28826.83it/s]\n"
     ]
    },
    {
     "data": {
      "text/plain": "['eb01b863-3004-4c43-b13e-f91816e1f9b2',\n '519fe154-5baf-4c44-a2a7-2ca88bd946f5',\n '1ef14a73-5d80-4846-a7a7-f7c1ea13e30b',\n 'f4e4e109-3ef1-4dc9-94af-e5b320d42b29',\n '9b360233-f480-47e7-a563-97270af4f893',\n 'ef6b4a0f-6fd9-4a6f-88ec-269f0f7a21f4',\n '5860851f-6cdd-455c-a148-ff944e078ea2',\n 'cc4a621d-feb9-43b5-82a7-87ede5f38efb',\n 'c060f61f-0a18-4d41-9807-61026e314232',\n '09f2fb5e-432b-46f1-bbab-8d0a5ccbdb6f',\n '3166a69d-4850-4599-a695-19949e4e93bb',\n '07f2e6ee-3181-4f48-9f44-7ef06d68419f',\n 'f134565b-f1a5-448e-bfdc-7cee56361a49',\n '3a18f6ec-9dec-41c4-935a-fe066ee8638a',\n '954e83d1-81e7-43d1-b9b4-68692c17a2d9',\n '79039008-5540-4ac0-b3bb-a1bb2e798343',\n '8bb9201c-44b5-45be-a19a-c0c99d9da22a',\n 'a03b82f5-ce7d-4421-a7c6-a56f5c97a5e6',\n '3057af84-0253-4b8f-9408-d800e2e53c14',\n '26e08839-b8f0-4c63-8dea-fa3b956d907e',\n 'e90d1c94-eda2-4975-aa66-6e79126ee0d9',\n 'b71b4583-8181-4684-9289-8330223c95f8',\n 'e792da71-1c63-40e9-b3d0-e41a6764cc07',\n '7311e4ad-507e-4986-8780-07487de628dd',\n '5c86f5f9-70b6-4bad-a2a5-f2d15b008fe8',\n '68ebbee0-09e3-476d-8922-57c9032d20e9',\n '9d328feb-a170-4f99-93cd-a0d32d84d55f',\n 'f36c9a1d-b3be-415f-bef4-780c1374bb3a',\n 'ff336d00-50dd-4f9c-ae4c-4d3d27fc1942',\n 'e04f5414-1f9a-4ac5-9b1c-6770851dff82',\n '8ae9ab50-89db-478e-a6a1-278115cc5ed6',\n '3e7a0eed-d44b-4aab-9133-81a09618b2d8',\n 'a9554e1c-f900-412d-8a45-028e311ecd26',\n 'ea5ea4b2-e67b-4e55-b604-960c2397ce3a',\n '3a85cba3-a583-4984-8822-e7452f704571',\n '303ba7c5-0c92-4862-b440-7b6ba3a4ccaf',\n 'c3bac429-6371-4152-9aa1-b2505036cde5',\n '5e229666-5762-454c-bd41-1b61e1616eb1',\n 'a59a9a83-1bd9-431b-b70d-ec9a863ba76d',\n 'd16b2c36-0834-4ae4-b70c-fca64f26c0b7',\n 'e673ede8-8f9e-4b27-83e2-6aa7770def64',\n '9751c2e3-381b-4705-b981-3cfa1f9244d7',\n '0e111188-eced-4a0c-ad16-f7e465b81e7d',\n 'b4b5d6fc-60e4-46d3-8aa5-f5cd0bc86ffc',\n 'e4771c24-4f9a-4beb-9e48-5f6702df6f73',\n '725ae57c-ce92-47d9-be9c-4ead148a5c56',\n '75f810e9-9db3-4c82-a1f7-717062d21c04',\n '856fc283-a6aa-46da-a70f-cb071c021a69',\n 'aa898a7a-e3aa-4844-a0c5-c7b0254680e6',\n '8bd2ed67-42b7-4d3a-8c1e-456f3efc71e1',\n 'd6c46926-6f35-418a-839d-ce9b7e7006f7',\n '0285d078-65ce-4a5d-a82e-33b35feccc85',\n '48f3271d-7e42-4764-856e-52cb02263282',\n '5aadf78c-183a-40cc-93a6-88c56fd24138',\n 'fec070e4-f58d-4dad-924b-092bfe25f818',\n '80071c75-c339-4847-a11e-1ec8a3e11539',\n 'f3c01036-14b1-45c0-917e-a736abf5fb5c',\n '11cf9c73-8e60-4000-82c4-0e6af9d0dfdb',\n '2201df6b-31d2-4ba4-bc32-f4e02fa2030b',\n '91b2a962-e7b8-41be-aaa7-1c4d35c3777a',\n '85f81209-864f-42cf-b1f3-6af2bbfb474d',\n '48febcc8-4ff6-4fe5-a4c7-0ff524f13494',\n 'ef00dc4b-745d-4061-ae1a-83844c6aec7f',\n '5dadce2e-25d9-4f4d-a0fe-498c64024de7',\n '3e899812-2392-4ba9-acfd-a7b110f360ac',\n '5d5ef0f1-9579-4f86-8107-2865c9dceac8',\n '92af439f-dace-4707-ba7c-7ddf7f3d068f',\n 'ddadb880-b0e8-4785-9149-6b22d2a46b1e',\n '77340615-3477-4364-8ba0-d7edd668d4d9',\n 'a3c71029-d002-4a7d-8348-719c176f1baa',\n '09c3f32b-c468-4950-b752-61a675e2ab7d',\n '8573e852-15f9-465b-a388-76a3b133f67a',\n '786fe85f-9c73-4287-a50a-78a05c326a27',\n '156e1d52-5018-463f-a881-a1b0e4d320d9',\n '0612e671-ac9c-4395-92ef-1f690a8c8624',\n '24ce19a8-9fd1-4b13-9395-3b19f93f99c4',\n 'f39426cb-8913-459b-ad63-6bd3710805b3',\n '34e4a0cd-151e-46b3-b2fc-5ec82c846752',\n 'ae0e1c09-e849-41f9-900a-a83a5cdfbccb',\n '63586874-ed59-4f11-9735-8cf0c65afa26',\n '5f35b866-6b48-43ca-a58b-76621c6908b6',\n '58c1e617-7326-4a89-a477-2c8dd9c7d437',\n 'ac12bbbe-ce4e-48d0-931e-3b9da1e8002c',\n '80be5212-1f88-4e9b-9362-91e5add94a11',\n 'b8a8899f-3011-4c57-a573-60f2f62ef2b5',\n '6f6f62ed-85b4-40dd-8a06-ddcd20ba2f98',\n '824e6398-eeca-4642-9400-b5c438128c51',\n 'f5debf5b-845e-4738-adc0-c0b9675340bf',\n '06e51f1e-4d3e-4be4-a497-00eac74bef9c',\n 'acffc986-7b3f-40c6-ac2c-6faa5a47c9c8',\n '8be9f4a7-ad60-48ad-bdab-54338678dfc4',\n '460827de-948e-447a-bd21-2bb83b564e1a',\n 'c808a407-a979-48ee-bc56-4bf55b652d43',\n 'df7175b4-658d-4800-80bd-ef9288fe9b23',\n '756c1267-f4ae-4bf9-b4d0-4ac6f59ef4c4',\n '69d01ce1-1bb5-4531-9169-4b56903b91a8',\n 'a25e8ecf-7a5e-4a1b-a6e0-16c029b4f55e',\n 'a591f944-0acb-4967-8a9e-dfcce6d1a93c',\n 'dd14b1c4-4ccc-4df0-99f5-2d4211c6bf3c',\n '18d034aa-9090-406f-a726-e4fb09585165',\n 'a7e5dfbb-64cd-4c46-b8ad-6319dd2530a5',\n 'c05c0fe3-65f2-41d3-bd5e-4556f31b7f08',\n '7de9c2cd-5522-47e2-bc65-59ec1cccf8db',\n 'e5c86e4f-47fe-4f96-a970-9792a11086c4',\n 'f96ded9a-2d03-4655-98af-970dd8dbd645',\n 'f802b11b-de02-4ee3-81a5-07da43fd392f',\n '22fde71b-5231-455b-9c3c-78369d294882',\n '04bf97c7-a2fa-4bc3-bcd2-e9c3a3f167dd',\n '51943d5c-4db7-4679-940f-fdbb7282be71',\n 'be6ebc3f-645a-46f2-a547-86f713fb9c3e',\n '0eca05ef-afed-46ff-9298-949b4fd4d473',\n 'e7952aab-b158-4805-80f9-38944347792c',\n '3503da9a-9891-4b56-abb0-8dc204e7ed80',\n '3d3abc80-679d-4b66-9f17-261d8334aa80']"
     },
     "execution_count": 42,
     "metadata": {},
     "output_type": "execute_result"
    }
   ],
   "source": [
    "from langchain_openai import OpenAIEmbeddings\n",
    "from langchain_pinecone import PineconeVectorStore\n",
    "from langchain.text_splitter import RecursiveCharacterTextSplitter\n",
    "from langchain.schema import Document\n",
    "from tqdm import tqdm\n",
    "\n",
    "# 임베딩 모델\n",
    "embeddings = OpenAIEmbeddings(model=OPENAI_EMBEDDING_MODEL)\n",
    "\n",
    "# 벡터 스토어\n",
    "vector_store = PineconeVectorStore(\n",
    "    index_name=PINECONE_INDEX_NAME,\n",
    "    embedding=embeddings,\n",
    ")\n",
    "\n",
    "url = 'https://apis.data.go.kr/1471000/HtfsInfoService03/getHtfsItem01'\n",
    "params = {\n",
    "    \"pageNo\": \"1\",\n",
    "    \"numOfRows\": \"100\", # 한 페이지에 100개가 최대 -> json 파일로 전체 임베딩 해놓는게 어떨지....\n",
    "    \"ServiceKey\": os.getenv(\"DECODING_KEY\"),\n",
    "    \"type\": \"json\"\n",
    "}\n",
    "response = requests.get(url, params=params, timeout=10)\n",
    "response.raise_for_status()\n",
    "data = response.json()\n",
    "items = data['body']['items']\n",
    "\n",
    "# prduct : 상품명\n",
    "# main_fnctn : 주요기능\n",
    "# intake_hint : 주의사항\n",
    "# distb_pd : 유통기한\n",
    "# base_standard : 성상\n",
    "# entrps : 제조사\n",
    "# prsrv_pd : 보관방법\n",
    "\n",
    "texts = []\n",
    "metadata_list = []\n",
    "\n",
    "def safe_get(data, key):\n",
    "    value = data.get(key)\n",
    "    return value if value is not None else \"\"\n",
    "\n",
    "for item in tqdm(items):\n",
    "    data = item['item']\n",
    "\n",
    "    metadata = {\n",
    "        \"상품명\": safe_get(data, 'PRDUCT'),\n",
    "        \"주요기능\": safe_get(data, 'MAIN_FNCTN'),\n",
    "        \"주의사항\": safe_get(data, 'INTAKE_HINT1'),\n",
    "        \"유통기한\": safe_get(data, 'DISTB_PD'),\n",
    "        \"성상\": safe_get(data, 'BASE_STANDARD'),\n",
    "        \"제조사\": safe_get(data, 'ENTRPS'),\n",
    "        \"보관방법\": safe_get(data, 'PRSRV_PD')\n",
    "    }\n",
    "\n",
    "    page_content = \"\\n\".join(f\"{k}: {v}\" for k, v in metadata.items())\n",
    "\n",
    "    doc = Document(page_content=page_content, metadata=metadata)\n",
    "    texts.append(doc)\n",
    "\n",
    "splitter = RecursiveCharacterTextSplitter(chunk_size=1000, chunk_overlap=200)\n",
    "split_docs = splitter.split_documents(texts)\n",
    "\n",
    "vector_store.add_documents(split_docs)"
   ],
   "metadata": {
    "collapsed": false,
    "ExecuteTime": {
     "end_time": "2025-07-14T14:50:37.922123Z",
     "start_time": "2025-07-14T14:50:28.439765Z"
    }
   },
   "id": "3e426bf85f7052c1"
  },
  {
   "cell_type": "code",
   "execution_count": null,
   "outputs": [],
   "source": [],
   "metadata": {
    "collapsed": false
   },
   "id": "243efad334c65d02"
  }
 ],
 "metadata": {
  "kernelspec": {
   "display_name": "Python 3",
   "language": "python",
   "name": "python3"
  },
  "language_info": {
   "codemirror_mode": {
    "name": "ipython",
    "version": 2
   },
   "file_extension": ".py",
   "mimetype": "text/x-python",
   "name": "python",
   "nbconvert_exporter": "python",
   "pygments_lexer": "ipython2",
   "version": "2.7.6"
  }
 },
 "nbformat": 4,
 "nbformat_minor": 5
}
