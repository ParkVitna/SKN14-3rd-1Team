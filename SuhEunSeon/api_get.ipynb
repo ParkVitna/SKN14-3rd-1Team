{
 "nbformat": 4,
 "nbformat_minor": 0,
 "metadata": {
  "colab": {
   "provenance": [],
   "authorship_tag": "ABX9TyPHIrkKXbTL0vR7pChyjqWW"
  },
  "kernelspec": {
   "name": "python3",
   "display_name": "Python 3"
  },
  "language_info": {
   "name": "python"
  }
 },
 "cells": [
  {
   "cell_type": "code",
   "source": [
    "!pip install langchain langchain-community langchain-pinecone langchain-openai pypdf"
   ],
   "metadata": {
    "colab": {
     "base_uri": "https://localhost:8080/"
    },
    "collapsed": true,
    "id": "ObbViIl7r-q2",
    "executionInfo": {
     "status": "ok",
     "timestamp": 1752561747447,
     "user_tz": -540,
     "elapsed": 10607,
     "user": {
      "displayName": "서은선",
      "userId": "18036651550325765073"
     }
    },
    "outputId": "9a7b03f2-76c6-451d-8360-7e2e42b9710c"
   },
   "execution_count": null,
   "outputs": [
    {
     "output_type": "stream",
     "name": "stdout",
     "text": [
      "Requirement already satisfied: langchain in /usr/local/lib/python3.11/dist-packages (0.3.26)\n",
      "Requirement already satisfied: langchain-community in /usr/local/lib/python3.11/dist-packages (0.3.27)\n",
      "Collecting langchain-pinecone\n",
      "  Downloading langchain_pinecone-0.2.8-py3-none-any.whl.metadata (5.3 kB)\n",
      "Requirement already satisfied: langchain-openai in /usr/local/lib/python3.11/dist-packages (0.3.28)\n",
      "Requirement already satisfied: pypdf in /usr/local/lib/python3.11/dist-packages (5.8.0)\n",
      "Requirement already satisfied: langchain-core<1.0.0,>=0.3.66 in /usr/local/lib/python3.11/dist-packages (from langchain) (0.3.68)\n",
      "Requirement already satisfied: langchain-text-splitters<1.0.0,>=0.3.8 in /usr/local/lib/python3.11/dist-packages (from langchain) (0.3.8)\n",
      "Requirement already satisfied: langsmith>=0.1.17 in /usr/local/lib/python3.11/dist-packages (from langchain) (0.4.4)\n",
      "Requirement already satisfied: pydantic<3.0.0,>=2.7.4 in /usr/local/lib/python3.11/dist-packages (from langchain) (2.11.7)\n",
      "Requirement already satisfied: SQLAlchemy<3,>=1.4 in /usr/local/lib/python3.11/dist-packages (from langchain) (2.0.41)\n",
      "Requirement already satisfied: requests<3,>=2 in /usr/local/lib/python3.11/dist-packages (from langchain) (2.32.3)\n",
      "Requirement already satisfied: PyYAML>=5.3 in /usr/local/lib/python3.11/dist-packages (from langchain) (6.0.2)\n",
      "Requirement already satisfied: aiohttp<4.0.0,>=3.8.3 in /usr/local/lib/python3.11/dist-packages (from langchain-community) (3.11.15)\n",
      "Requirement already satisfied: tenacity!=8.4.0,<10,>=8.1.0 in /usr/local/lib/python3.11/dist-packages (from langchain-community) (8.5.0)\n",
      "Requirement already satisfied: dataclasses-json<0.7,>=0.5.7 in /usr/local/lib/python3.11/dist-packages (from langchain-community) (0.6.7)\n",
      "Requirement already satisfied: pydantic-settings<3.0.0,>=2.4.0 in /usr/local/lib/python3.11/dist-packages (from langchain-community) (2.10.1)\n",
      "Requirement already satisfied: httpx-sse<1.0.0,>=0.4.0 in /usr/local/lib/python3.11/dist-packages (from langchain-community) (0.4.1)\n",
      "Requirement already satisfied: numpy>=1.26.2 in /usr/local/lib/python3.11/dist-packages (from langchain-community) (2.0.2)\n",
      "Collecting pinecone<8.0.0,>=6.0.0 (from pinecone[asyncio]<8.0.0,>=6.0.0->langchain-pinecone)\n",
      "  Downloading pinecone-7.3.0-py3-none-any.whl.metadata (9.5 kB)\n",
      "Collecting langchain-tests<1.0.0,>=0.3.7 (from langchain-pinecone)\n",
      "  Downloading langchain_tests-0.3.20-py3-none-any.whl.metadata (3.3 kB)\n",
      "Requirement already satisfied: openai<2.0.0,>=1.86.0 in /usr/local/lib/python3.11/dist-packages (from langchain-openai) (1.94.0)\n",
      "Requirement already satisfied: tiktoken<1,>=0.7 in /usr/local/lib/python3.11/dist-packages (from langchain-openai) (0.9.0)\n",
      "Requirement already satisfied: aiohappyeyeballs>=2.3.0 in /usr/local/lib/python3.11/dist-packages (from aiohttp<4.0.0,>=3.8.3->langchain-community) (2.6.1)\n",
      "Requirement already satisfied: aiosignal>=1.1.2 in /usr/local/lib/python3.11/dist-packages (from aiohttp<4.0.0,>=3.8.3->langchain-community) (1.4.0)\n",
      "Requirement already satisfied: attrs>=17.3.0 in /usr/local/lib/python3.11/dist-packages (from aiohttp<4.0.0,>=3.8.3->langchain-community) (25.3.0)\n",
      "Requirement already satisfied: frozenlist>=1.1.1 in /usr/local/lib/python3.11/dist-packages (from aiohttp<4.0.0,>=3.8.3->langchain-community) (1.7.0)\n",
      "Requirement already satisfied: multidict<7.0,>=4.5 in /usr/local/lib/python3.11/dist-packages (from aiohttp<4.0.0,>=3.8.3->langchain-community) (6.6.3)\n",
      "Requirement already satisfied: propcache>=0.2.0 in /usr/local/lib/python3.11/dist-packages (from aiohttp<4.0.0,>=3.8.3->langchain-community) (0.3.2)\n",
      "Requirement already satisfied: yarl<2.0,>=1.17.0 in /usr/local/lib/python3.11/dist-packages (from aiohttp<4.0.0,>=3.8.3->langchain-community) (1.20.1)\n",
      "Requirement already satisfied: marshmallow<4.0.0,>=3.18.0 in /usr/local/lib/python3.11/dist-packages (from dataclasses-json<0.7,>=0.5.7->langchain-community) (3.26.1)\n",
      "Requirement already satisfied: typing-inspect<1,>=0.4.0 in /usr/local/lib/python3.11/dist-packages (from dataclasses-json<0.7,>=0.5.7->langchain-community) (0.9.0)\n",
      "Requirement already satisfied: jsonpatch<2.0,>=1.33 in /usr/local/lib/python3.11/dist-packages (from langchain-core<1.0.0,>=0.3.66->langchain) (1.33)\n",
      "Requirement already satisfied: packaging<25,>=23.2 in /usr/local/lib/python3.11/dist-packages (from langchain-core<1.0.0,>=0.3.66->langchain) (24.2)\n",
      "Requirement already satisfied: typing-extensions>=4.7 in /usr/local/lib/python3.11/dist-packages (from langchain-core<1.0.0,>=0.3.66->langchain) (4.14.1)\n",
      "Requirement already satisfied: pytest<9,>=7 in /usr/local/lib/python3.11/dist-packages (from langchain-tests<1.0.0,>=0.3.7->langchain-pinecone) (8.3.5)\n",
      "Collecting pytest-asyncio<1,>=0.20 (from langchain-tests<1.0.0,>=0.3.7->langchain-pinecone)\n",
      "  Downloading pytest_asyncio-0.26.0-py3-none-any.whl.metadata (4.0 kB)\n",
      "Requirement already satisfied: httpx<1,>=0.25.0 in /usr/local/lib/python3.11/dist-packages (from langchain-tests<1.0.0,>=0.3.7->langchain-pinecone) (0.28.1)\n",
      "Collecting syrupy<5,>=4 (from langchain-tests<1.0.0,>=0.3.7->langchain-pinecone)\n",
      "  Downloading syrupy-4.9.1-py3-none-any.whl.metadata (38 kB)\n",
      "Collecting pytest-socket<1,>=0.6.0 (from langchain-tests<1.0.0,>=0.3.7->langchain-pinecone)\n",
      "  Downloading pytest_socket-0.7.0-py3-none-any.whl.metadata (6.7 kB)\n",
      "Collecting pytest-benchmark (from langchain-tests<1.0.0,>=0.3.7->langchain-pinecone)\n",
      "  Downloading pytest_benchmark-5.1.0-py3-none-any.whl.metadata (25 kB)\n",
      "Collecting pytest-codspeed (from langchain-tests<1.0.0,>=0.3.7->langchain-pinecone)\n",
      "  Downloading pytest_codspeed-4.0.0-cp311-cp311-manylinux_2_17_x86_64.manylinux2014_x86_64.manylinux_2_28_x86_64.whl.metadata (7.3 kB)\n",
      "Collecting pytest-recording (from langchain-tests<1.0.0,>=0.3.7->langchain-pinecone)\n",
      "  Downloading pytest_recording-0.13.4-py3-none-any.whl.metadata (11 kB)\n",
      "Collecting vcrpy>=7.0 (from langchain-tests<1.0.0,>=0.3.7->langchain-pinecone)\n",
      "  Downloading vcrpy-7.0.0-py2.py3-none-any.whl.metadata (4.6 kB)\n",
      "Requirement already satisfied: orjson<4.0.0,>=3.9.14 in /usr/local/lib/python3.11/dist-packages (from langsmith>=0.1.17->langchain) (3.10.18)\n",
      "Requirement already satisfied: requests-toolbelt<2.0.0,>=1.0.0 in /usr/local/lib/python3.11/dist-packages (from langsmith>=0.1.17->langchain) (1.0.0)\n",
      "Requirement already satisfied: zstandard<0.24.0,>=0.23.0 in /usr/local/lib/python3.11/dist-packages (from langsmith>=0.1.17->langchain) (0.23.0)\n",
      "Requirement already satisfied: anyio<5,>=3.5.0 in /usr/local/lib/python3.11/dist-packages (from openai<2.0.0,>=1.86.0->langchain-openai) (4.9.0)\n",
      "Requirement already satisfied: distro<2,>=1.7.0 in /usr/local/lib/python3.11/dist-packages (from openai<2.0.0,>=1.86.0->langchain-openai) (1.9.0)\n",
      "Requirement already satisfied: jiter<1,>=0.4.0 in /usr/local/lib/python3.11/dist-packages (from openai<2.0.0,>=1.86.0->langchain-openai) (0.10.0)\n",
      "Requirement already satisfied: sniffio in /usr/local/lib/python3.11/dist-packages (from openai<2.0.0,>=1.86.0->langchain-openai) (1.3.1)\n",
      "Requirement already satisfied: tqdm>4 in /usr/local/lib/python3.11/dist-packages (from openai<2.0.0,>=1.86.0->langchain-openai) (4.67.1)\n",
      "Requirement already satisfied: certifi>=2019.11.17 in /usr/local/lib/python3.11/dist-packages (from pinecone<8.0.0,>=6.0.0->pinecone[asyncio]<8.0.0,>=6.0.0->langchain-pinecone) (2025.7.9)\n",
      "Collecting pinecone-plugin-assistant<2.0.0,>=1.6.0 (from pinecone<8.0.0,>=6.0.0->pinecone[asyncio]<8.0.0,>=6.0.0->langchain-pinecone)\n",
      "  Downloading pinecone_plugin_assistant-1.7.0-py3-none-any.whl.metadata (28 kB)\n",
      "Collecting pinecone-plugin-interface<0.0.8,>=0.0.7 (from pinecone<8.0.0,>=6.0.0->pinecone[asyncio]<8.0.0,>=6.0.0->langchain-pinecone)\n",
      "  Downloading pinecone_plugin_interface-0.0.7-py3-none-any.whl.metadata (1.2 kB)\n",
      "Requirement already satisfied: python-dateutil>=2.5.3 in /usr/local/lib/python3.11/dist-packages (from pinecone<8.0.0,>=6.0.0->pinecone[asyncio]<8.0.0,>=6.0.0->langchain-pinecone) (2.9.0.post0)\n",
      "Requirement already satisfied: urllib3>=1.26.0 in /usr/local/lib/python3.11/dist-packages (from pinecone<8.0.0,>=6.0.0->pinecone[asyncio]<8.0.0,>=6.0.0->langchain-pinecone) (2.4.0)\n",
      "Collecting aiohttp-retry<3.0.0,>=2.9.1 (from pinecone[asyncio]<8.0.0,>=6.0.0->langchain-pinecone)\n",
      "  Downloading aiohttp_retry-2.9.1-py3-none-any.whl.metadata (8.8 kB)\n",
      "Requirement already satisfied: annotated-types>=0.6.0 in /usr/local/lib/python3.11/dist-packages (from pydantic<3.0.0,>=2.7.4->langchain) (0.7.0)\n",
      "Requirement already satisfied: pydantic-core==2.33.2 in /usr/local/lib/python3.11/dist-packages (from pydantic<3.0.0,>=2.7.4->langchain) (2.33.2)\n",
      "Requirement already satisfied: typing-inspection>=0.4.0 in /usr/local/lib/python3.11/dist-packages (from pydantic<3.0.0,>=2.7.4->langchain) (0.4.1)\n",
      "Requirement already satisfied: python-dotenv>=0.21.0 in /usr/local/lib/python3.11/dist-packages (from pydantic-settings<3.0.0,>=2.4.0->langchain-community) (1.1.1)\n",
      "Requirement already satisfied: charset-normalizer<4,>=2 in /usr/local/lib/python3.11/dist-packages (from requests<3,>=2->langchain) (3.4.2)\n",
      "Requirement already satisfied: idna<4,>=2.5 in /usr/local/lib/python3.11/dist-packages (from requests<3,>=2->langchain) (3.10)\n",
      "Requirement already satisfied: greenlet>=1 in /usr/local/lib/python3.11/dist-packages (from SQLAlchemy<3,>=1.4->langchain) (3.2.3)\n",
      "Requirement already satisfied: regex>=2022.1.18 in /usr/local/lib/python3.11/dist-packages (from tiktoken<1,>=0.7->langchain-openai) (2024.11.6)\n",
      "Requirement already satisfied: httpcore==1.* in /usr/local/lib/python3.11/dist-packages (from httpx<1,>=0.25.0->langchain-tests<1.0.0,>=0.3.7->langchain-pinecone) (1.0.9)\n",
      "Requirement already satisfied: h11>=0.16 in /usr/local/lib/python3.11/dist-packages (from httpcore==1.*->httpx<1,>=0.25.0->langchain-tests<1.0.0,>=0.3.7->langchain-pinecone) (0.16.0)\n",
      "Requirement already satisfied: jsonpointer>=1.9 in /usr/local/lib/python3.11/dist-packages (from jsonpatch<2.0,>=1.33->langchain-core<1.0.0,>=0.3.66->langchain) (3.0.0)\n",
      "Requirement already satisfied: iniconfig in /usr/local/lib/python3.11/dist-packages (from pytest<9,>=7->langchain-tests<1.0.0,>=0.3.7->langchain-pinecone) (2.1.0)\n",
      "Requirement already satisfied: pluggy<2,>=1.5 in /usr/local/lib/python3.11/dist-packages (from pytest<9,>=7->langchain-tests<1.0.0,>=0.3.7->langchain-pinecone) (1.6.0)\n",
      "Requirement already satisfied: six>=1.5 in /usr/local/lib/python3.11/dist-packages (from python-dateutil>=2.5.3->pinecone<8.0.0,>=6.0.0->pinecone[asyncio]<8.0.0,>=6.0.0->langchain-pinecone) (1.17.0)\n",
      "Requirement already satisfied: mypy-extensions>=0.3.0 in /usr/local/lib/python3.11/dist-packages (from typing-inspect<1,>=0.4.0->dataclasses-json<0.7,>=0.5.7->langchain-community) (1.1.0)\n",
      "Requirement already satisfied: wrapt in /usr/local/lib/python3.11/dist-packages (from vcrpy>=7.0->langchain-tests<1.0.0,>=0.3.7->langchain-pinecone) (1.17.2)\n",
      "Requirement already satisfied: py-cpuinfo in /usr/local/lib/python3.11/dist-packages (from pytest-benchmark->langchain-tests<1.0.0,>=0.3.7->langchain-pinecone) (9.0.0)\n",
      "Requirement already satisfied: cffi>=1.17.1 in /usr/local/lib/python3.11/dist-packages (from pytest-codspeed->langchain-tests<1.0.0,>=0.3.7->langchain-pinecone) (1.17.1)\n",
      "Requirement already satisfied: rich>=13.8.1 in /usr/local/lib/python3.11/dist-packages (from pytest-codspeed->langchain-tests<1.0.0,>=0.3.7->langchain-pinecone) (13.9.4)\n",
      "Requirement already satisfied: pycparser in /usr/local/lib/python3.11/dist-packages (from cffi>=1.17.1->pytest-codspeed->langchain-tests<1.0.0,>=0.3.7->langchain-pinecone) (2.22)\n",
      "Requirement already satisfied: markdown-it-py>=2.2.0 in /usr/local/lib/python3.11/dist-packages (from rich>=13.8.1->pytest-codspeed->langchain-tests<1.0.0,>=0.3.7->langchain-pinecone) (3.0.0)\n",
      "Requirement already satisfied: pygments<3.0.0,>=2.13.0 in /usr/local/lib/python3.11/dist-packages (from rich>=13.8.1->pytest-codspeed->langchain-tests<1.0.0,>=0.3.7->langchain-pinecone) (2.19.2)\n",
      "Requirement already satisfied: mdurl~=0.1 in /usr/local/lib/python3.11/dist-packages (from markdown-it-py>=2.2.0->rich>=13.8.1->pytest-codspeed->langchain-tests<1.0.0,>=0.3.7->langchain-pinecone) (0.1.2)\n",
      "Downloading langchain_pinecone-0.2.8-py3-none-any.whl (22 kB)\n",
      "Downloading langchain_tests-0.3.20-py3-none-any.whl (46 kB)\n",
      "\u001B[2K   \u001B[90m━━━━━━━━━━━━━━━━━━━━━━━━━━━━━━━━━━━━━━━━\u001B[0m \u001B[32m46.3/46.3 kB\u001B[0m \u001B[31m3.4 MB/s\u001B[0m eta \u001B[36m0:00:00\u001B[0m\n",
      "\u001B[?25hDownloading pinecone-7.3.0-py3-none-any.whl (587 kB)\n",
      "\u001B[2K   \u001B[90m━━━━━━━━━━━━━━━━━━━━━━━━━━━━━━━━━━━━━━━━\u001B[0m \u001B[32m587.6/587.6 kB\u001B[0m \u001B[31m14.7 MB/s\u001B[0m eta \u001B[36m0:00:00\u001B[0m\n",
      "\u001B[?25hDownloading aiohttp_retry-2.9.1-py3-none-any.whl (10.0 kB)\n",
      "Downloading pinecone_plugin_assistant-1.7.0-py3-none-any.whl (239 kB)\n",
      "\u001B[2K   \u001B[90m━━━━━━━━━━━━━━━━━━━━━━━━━━━━━━━━━━━━━━━━\u001B[0m \u001B[32m240.0/240.0 kB\u001B[0m \u001B[31m16.8 MB/s\u001B[0m eta \u001B[36m0:00:00\u001B[0m\n",
      "\u001B[?25hDownloading pinecone_plugin_interface-0.0.7-py3-none-any.whl (6.2 kB)\n",
      "Downloading pytest_asyncio-0.26.0-py3-none-any.whl (19 kB)\n",
      "Downloading pytest_socket-0.7.0-py3-none-any.whl (6.8 kB)\n",
      "Downloading syrupy-4.9.1-py3-none-any.whl (52 kB)\n",
      "\u001B[2K   \u001B[90m━━━━━━━━━━━━━━━━━━━━━━━━━━━━━━━━━━━━━━━━\u001B[0m \u001B[32m52.2/52.2 kB\u001B[0m \u001B[31m3.9 MB/s\u001B[0m eta \u001B[36m0:00:00\u001B[0m\n",
      "\u001B[?25hDownloading vcrpy-7.0.0-py2.py3-none-any.whl (42 kB)\n",
      "\u001B[2K   \u001B[90m━━━━━━━━━━━━━━━━━━━━━━━━━━━━━━━━━━━━━━━━\u001B[0m \u001B[32m42.3/42.3 kB\u001B[0m \u001B[31m2.7 MB/s\u001B[0m eta \u001B[36m0:00:00\u001B[0m\n",
      "\u001B[?25hDownloading pytest_benchmark-5.1.0-py3-none-any.whl (44 kB)\n",
      "\u001B[2K   \u001B[90m━━━━━━━━━━━━━━━━━━━━━━━━━━━━━━━━━━━━━━━━\u001B[0m \u001B[32m44.3/44.3 kB\u001B[0m \u001B[31m3.1 MB/s\u001B[0m eta \u001B[36m0:00:00\u001B[0m\n",
      "\u001B[?25hDownloading pytest_codspeed-4.0.0-cp311-cp311-manylinux_2_17_x86_64.manylinux2014_x86_64.manylinux_2_28_x86_64.whl (221 kB)\n",
      "\u001B[2K   \u001B[90m━━━━━━━━━━━━━━━━━━━━━━━━━━━━━━━━━━━━━━━━\u001B[0m \u001B[32m221.1/221.1 kB\u001B[0m \u001B[31m13.3 MB/s\u001B[0m eta \u001B[36m0:00:00\u001B[0m\n",
      "\u001B[?25hDownloading pytest_recording-0.13.4-py3-none-any.whl (13 kB)\n",
      "Installing collected packages: pinecone-plugin-interface, vcrpy, syrupy, pytest-socket, pytest-benchmark, pytest-asyncio, pinecone-plugin-assistant, pytest-recording, pytest-codspeed, pinecone, aiohttp-retry, langchain-tests, langchain-pinecone\n",
      "Successfully installed aiohttp-retry-2.9.1 langchain-pinecone-0.2.8 langchain-tests-0.3.20 pinecone-7.3.0 pinecone-plugin-assistant-1.7.0 pinecone-plugin-interface-0.0.7 pytest-asyncio-0.26.0 pytest-benchmark-5.1.0 pytest-codspeed-4.0.0 pytest-recording-0.13.4 pytest-socket-0.7.0 syrupy-4.9.1 vcrpy-7.0.0\n"
     ]
    }
   ]
  },
  {
   "cell_type": "markdown",
   "source": [
    "# api 받아오기"
   ],
   "metadata": {
    "id": "GVwzyDDwsCfZ"
   }
  },
  {
   "cell_type": "code",
   "execution_count": 12,
   "metadata": {
    "colab": {
     "base_uri": "https://localhost:8080/",
     "height": 426
    },
    "id": "CwUp8iwfdv3I",
    "executionInfo": {
     "status": "error",
     "timestamp": 1752564465339,
     "user_tz": -540,
     "elapsed": 1000,
     "user": {
      "displayName": "서은선",
      "userId": "18036651550325765073"
     }
    },
    "outputId": "0a165034-068e-4613-b693-60701dbce609"
   },
   "outputs": [
    {
     "output_type": "error",
     "ename": "JSONDecodeError",
     "evalue": "Expecting value: line 1 column 1 (char 0)",
     "traceback": [
      "\u001B[0;31m---------------------------------------------------------------------------\u001B[0m",
      "\u001B[0;31mJSONDecodeError\u001B[0m                           Traceback (most recent call last)",
      "\u001B[0;32m/usr/local/lib/python3.11/dist-packages/requests/models.py\u001B[0m in \u001B[0;36mjson\u001B[0;34m(self, **kwargs)\u001B[0m\n\u001B[1;32m    973\u001B[0m         \u001B[0;32mtry\u001B[0m\u001B[0;34m:\u001B[0m\u001B[0;34m\u001B[0m\u001B[0;34m\u001B[0m\u001B[0m\n\u001B[0;32m--> 974\u001B[0;31m             \u001B[0;32mreturn\u001B[0m \u001B[0mcomplexjson\u001B[0m\u001B[0;34m.\u001B[0m\u001B[0mloads\u001B[0m\u001B[0;34m(\u001B[0m\u001B[0mself\u001B[0m\u001B[0;34m.\u001B[0m\u001B[0mtext\u001B[0m\u001B[0;34m,\u001B[0m \u001B[0;34m**\u001B[0m\u001B[0mkwargs\u001B[0m\u001B[0;34m)\u001B[0m\u001B[0;34m\u001B[0m\u001B[0;34m\u001B[0m\u001B[0m\n\u001B[0m\u001B[1;32m    975\u001B[0m         \u001B[0;32mexcept\u001B[0m \u001B[0mJSONDecodeError\u001B[0m \u001B[0;32mas\u001B[0m \u001B[0me\u001B[0m\u001B[0;34m:\u001B[0m\u001B[0;34m\u001B[0m\u001B[0;34m\u001B[0m\u001B[0m\n",
      "\u001B[0;32m/usr/local/lib/python3.11/dist-packages/simplejson/__init__.py\u001B[0m in \u001B[0;36mloads\u001B[0;34m(s, encoding, cls, object_hook, parse_float, parse_int, parse_constant, object_pairs_hook, use_decimal, allow_nan, **kw)\u001B[0m\n\u001B[1;32m    513\u001B[0m             and not use_decimal and not allow_nan and not kw):\n\u001B[0;32m--> 514\u001B[0;31m         \u001B[0;32mreturn\u001B[0m \u001B[0m_default_decoder\u001B[0m\u001B[0;34m.\u001B[0m\u001B[0mdecode\u001B[0m\u001B[0;34m(\u001B[0m\u001B[0ms\u001B[0m\u001B[0;34m)\u001B[0m\u001B[0;34m\u001B[0m\u001B[0;34m\u001B[0m\u001B[0m\n\u001B[0m\u001B[1;32m    515\u001B[0m     \u001B[0;32mif\u001B[0m \u001B[0mcls\u001B[0m \u001B[0;32mis\u001B[0m \u001B[0;32mNone\u001B[0m\u001B[0;34m:\u001B[0m\u001B[0;34m\u001B[0m\u001B[0;34m\u001B[0m\u001B[0m\n",
      "\u001B[0;32m/usr/local/lib/python3.11/dist-packages/simplejson/decoder.py\u001B[0m in \u001B[0;36mdecode\u001B[0;34m(self, s, _w, _PY3)\u001B[0m\n\u001B[1;32m    385\u001B[0m             \u001B[0ms\u001B[0m \u001B[0;34m=\u001B[0m \u001B[0mstr\u001B[0m\u001B[0;34m(\u001B[0m\u001B[0ms\u001B[0m\u001B[0;34m,\u001B[0m \u001B[0mself\u001B[0m\u001B[0;34m.\u001B[0m\u001B[0mencoding\u001B[0m\u001B[0;34m)\u001B[0m\u001B[0;34m\u001B[0m\u001B[0;34m\u001B[0m\u001B[0m\n\u001B[0;32m--> 386\u001B[0;31m         \u001B[0mobj\u001B[0m\u001B[0;34m,\u001B[0m \u001B[0mend\u001B[0m \u001B[0;34m=\u001B[0m \u001B[0mself\u001B[0m\u001B[0;34m.\u001B[0m\u001B[0mraw_decode\u001B[0m\u001B[0;34m(\u001B[0m\u001B[0ms\u001B[0m\u001B[0;34m)\u001B[0m\u001B[0;34m\u001B[0m\u001B[0;34m\u001B[0m\u001B[0m\n\u001B[0m\u001B[1;32m    387\u001B[0m         \u001B[0mend\u001B[0m \u001B[0;34m=\u001B[0m \u001B[0m_w\u001B[0m\u001B[0;34m(\u001B[0m\u001B[0ms\u001B[0m\u001B[0;34m,\u001B[0m \u001B[0mend\u001B[0m\u001B[0;34m)\u001B[0m\u001B[0;34m.\u001B[0m\u001B[0mend\u001B[0m\u001B[0;34m(\u001B[0m\u001B[0;34m)\u001B[0m\u001B[0;34m\u001B[0m\u001B[0;34m\u001B[0m\u001B[0m\n",
      "\u001B[0;32m/usr/local/lib/python3.11/dist-packages/simplejson/decoder.py\u001B[0m in \u001B[0;36mraw_decode\u001B[0;34m(self, s, idx, _w, _PY3)\u001B[0m\n\u001B[1;32m    415\u001B[0m                 \u001B[0midx\u001B[0m \u001B[0;34m+=\u001B[0m \u001B[0;36m3\u001B[0m\u001B[0;34m\u001B[0m\u001B[0;34m\u001B[0m\u001B[0m\n\u001B[0;32m--> 416\u001B[0;31m         \u001B[0;32mreturn\u001B[0m \u001B[0mself\u001B[0m\u001B[0;34m.\u001B[0m\u001B[0mscan_once\u001B[0m\u001B[0;34m(\u001B[0m\u001B[0ms\u001B[0m\u001B[0;34m,\u001B[0m \u001B[0midx\u001B[0m\u001B[0;34m=\u001B[0m\u001B[0m_w\u001B[0m\u001B[0;34m(\u001B[0m\u001B[0ms\u001B[0m\u001B[0;34m,\u001B[0m \u001B[0midx\u001B[0m\u001B[0;34m)\u001B[0m\u001B[0;34m.\u001B[0m\u001B[0mend\u001B[0m\u001B[0;34m(\u001B[0m\u001B[0;34m)\u001B[0m\u001B[0;34m)\u001B[0m\u001B[0;34m\u001B[0m\u001B[0;34m\u001B[0m\u001B[0m\n\u001B[0m",
      "\u001B[0;31mJSONDecodeError\u001B[0m: Expecting value: line 1 column 1 (char 0)",
      "\nDuring handling of the above exception, another exception occurred:\n",
      "\u001B[0;31mJSONDecodeError\u001B[0m                           Traceback (most recent call last)",
      "\u001B[0;32m/tmp/ipython-input-12-2353802948.py\u001B[0m in \u001B[0;36m<cell line: 0>\u001B[0;34m()\u001B[0m\n\u001B[1;32m     28\u001B[0m \u001B[0;34m\u001B[0m\u001B[0m\n\u001B[1;32m     29\u001B[0m     \u001B[0;31m# 결과 확인\u001B[0m\u001B[0;34m\u001B[0m\u001B[0;34m\u001B[0m\u001B[0m\n\u001B[0;32m---> 30\u001B[0;31m     \u001B[0mdata\u001B[0m \u001B[0;34m=\u001B[0m \u001B[0mresponse\u001B[0m\u001B[0;34m.\u001B[0m\u001B[0mjson\u001B[0m\u001B[0;34m(\u001B[0m\u001B[0;34m)\u001B[0m\u001B[0;34m\u001B[0m\u001B[0;34m\u001B[0m\u001B[0m\n\u001B[0m\u001B[1;32m     31\u001B[0m     \u001B[0mbody\u001B[0m \u001B[0;34m=\u001B[0m \u001B[0mdata\u001B[0m\u001B[0;34m.\u001B[0m\u001B[0mget\u001B[0m\u001B[0;34m(\u001B[0m\u001B[0;34m'body'\u001B[0m\u001B[0;34m)\u001B[0m\u001B[0;34m\u001B[0m\u001B[0;34m\u001B[0m\u001B[0m\n\u001B[1;32m     32\u001B[0m     \u001B[0;32mif\u001B[0m \u001B[0;32mnot\u001B[0m \u001B[0mbody\u001B[0m\u001B[0;34m:\u001B[0m\u001B[0;34m\u001B[0m\u001B[0;34m\u001B[0m\u001B[0m\n",
      "\u001B[0;32m/usr/local/lib/python3.11/dist-packages/requests/models.py\u001B[0m in \u001B[0;36mjson\u001B[0;34m(self, **kwargs)\u001B[0m\n\u001B[1;32m    976\u001B[0m             \u001B[0;31m# Catch JSON-related errors and raise as requests.JSONDecodeError\u001B[0m\u001B[0;34m\u001B[0m\u001B[0;34m\u001B[0m\u001B[0m\n\u001B[1;32m    977\u001B[0m             \u001B[0;31m# This aliases json.JSONDecodeError and simplejson.JSONDecodeError\u001B[0m\u001B[0;34m\u001B[0m\u001B[0;34m\u001B[0m\u001B[0m\n\u001B[0;32m--> 978\u001B[0;31m             \u001B[0;32mraise\u001B[0m \u001B[0mRequestsJSONDecodeError\u001B[0m\u001B[0;34m(\u001B[0m\u001B[0me\u001B[0m\u001B[0;34m.\u001B[0m\u001B[0mmsg\u001B[0m\u001B[0;34m,\u001B[0m \u001B[0me\u001B[0m\u001B[0;34m.\u001B[0m\u001B[0mdoc\u001B[0m\u001B[0;34m,\u001B[0m \u001B[0me\u001B[0m\u001B[0;34m.\u001B[0m\u001B[0mpos\u001B[0m\u001B[0;34m)\u001B[0m\u001B[0;34m\u001B[0m\u001B[0;34m\u001B[0m\u001B[0m\n\u001B[0m\u001B[1;32m    979\u001B[0m \u001B[0;34m\u001B[0m\u001B[0m\n\u001B[1;32m    980\u001B[0m     \u001B[0;34m@\u001B[0m\u001B[0mproperty\u001B[0m\u001B[0;34m\u001B[0m\u001B[0;34m\u001B[0m\u001B[0m\n",
      "\u001B[0;31mJSONDecodeError\u001B[0m: Expecting value: line 1 column 1 (char 0)"
     ]
    }
   ],
   "source": [
    "import requests\n",
    "from pprint import pprint\n",
    "import time\n",
    "from dotenv import load_dotenv\n",
    "import os\n",
    "\n",
    "end_point = 'https://apis.data.go.kr/1471000/HtfsInfoService03'\n",
    "\n",
    "url = 'http://apis.data.go.kr/1471000/HtfsInfoService03/getHtfsItem01?'\n",
    "\n",
    "load_dotenv()\n",
    "decoding = os.getenv['DECOIDNG']\n",
    "\n",
    "all_items = []  # 전체 데이터를 모을 리스트\n",
    "page = 1        # 시작 페이지\n",
    "\n",
    "while True:\n",
    "    # 요청 변수 세팅\n",
    "    params = {\n",
    "        \"pageNo\": str(page),\n",
    "        \"numOfRows\": \"100\",  # API 최대 허용값\n",
    "        \"ServiceKey\": \"decoding\",\n",
    "        \"type\": \"json\",\n",
    "    }\n",
    "\n",
    "    # API 요청\n",
    "    response = requests.get(url, params=params, timeout=10)\n",
    "    response.raise_for_status()\n",
    "\n",
    "    # 결과 확인\n",
    "    data = response.json()\n",
    "    body = data.get('body')\n",
    "    if not body:\n",
    "        print(f\"{page}페이지 - body 없음 종료\")\n",
    "        break\n",
    "\n",
    "    items = body.get('items')\n",
    "    if not items:\n",
    "        print(f\"{page}페이지 - items 없음 종료\")\n",
    "        break\n",
    "\n",
    "    all_items.extend(items)\n",
    "    print(f\"{page}페이지 수집 완료 - 누적 {len(all_items)}개\")\n",
    "\n",
    "    page += 1\n",
    "\n",
    "\n",
    "#수집된 데이터를 파일로 저장\n",
    "with open('raw_data.json', 'w', encoding='utf-8') as f:\n",
    "    json.dump(all_items, f, ensure_ascii=False, indent=4)\n",
    "\n",
    "print(f\"총 {len(all_items)}개 데이터 저장 완료\")\n",
    "\n",
    "\n",
    "\n",
    "# num_of_rows = 100\n",
    "# page = 1\n",
    "\n",
    "# # 3) 요청 변수(params) 세팅\n",
    "# params = {\n",
    "#     \"pageNo\":    \"1\",          # 페이지 번호\n",
    "#     \"numOfRows\": str(num_of_rows),         # 한 페이지 결과 수\n",
    "#     \"ServiceKey\": 'nsfVX4dKQRFTeyldmuRefFQqL8xOsDkkyw8TsU4dA4fO9vq7Zl7JTbrakHnVYBqRG62CWBhhOVwBaGgCBbm3AA==', # Swagger에 표시된 정확한 이름(ServiceKey)\n",
    "#     \"type\":      \"json\",       # 응답 포맷(xml/json) – default: xml\n",
    "#     # (필요시 API별 추가 파라미터를 여기에 더합니다)\n",
    "# }\n",
    "\n",
    "# # 4) 실제 요청 보내기\n",
    "# response = requests.get(url, params=params, timeout=10)\n",
    "# response.raise_for_status()\n",
    "\n",
    "# # 5) 결과 확인\n",
    "# pprint(response.json())"
   ]
  },
  {
   "cell_type": "code",
   "source": [
    "def extract_product_info(api_response):\n",
    "    items = api_response['body']['items']\n",
    "\n",
    "    simplified_products = []\n",
    "\n",
    "    for entry in items:\n",
    "        item = entry['item']\n",
    "        simplified_products.append({\n",
    "            '제품명': item.get('PRDUCT', '').strip(),\n",
    "            '기능성': item.get('MAIN_FNCTN', '').strip(),\n",
    "            '제조사': item.get('ENTRPS', '').strip(),\n",
    "            '섭취방법': item.get('SRV_USE', '').strip(),\n",
    "            '보관방법': item.get('PRSRV_PD', '').strip(),\n",
    "            '주의사항': item.get('INTAKE_HINT1', '').strip(),\n",
    "        })\n",
    "\n",
    "    return simplified_products\n",
    "\n",
    "product_list = extract_product_info(response.json())\n",
    "\n",
    "# 출력문 (예쁘게 정리)\n",
    "for i, p in enumerate(product_list[:3], 1):  # TOP3만 예시\n",
    "    print(f\"[{i}] {p['제품명']}\")\n",
    "    print(f\"기능성: {p['기능성']}\")\n",
    "    print(f\"제조사: {p['제조사']}\")\n",
    "    print(f\"섭취방법: {p['섭취방법']}\")\n",
    "    print(f\"보관방법: {p['보관방법']}\")\n",
    "    print(f\"주의사항: {p['주의사항']}\")\n",
    "    print(\"-\" * 50)"
   ],
   "metadata": {
    "colab": {
     "base_uri": "https://localhost:8080/"
    },
    "collapsed": true,
    "id": "xrsdplejd58A",
    "executionInfo": {
     "status": "ok",
     "timestamp": 1752562023176,
     "user_tz": -540,
     "elapsed": 27,
     "user": {
      "displayName": "서은선",
      "userId": "18036651550325765073"
     }
    },
    "outputId": "5c1f8ca2-96af-4d14-c51e-14ebca13550c"
   },
   "execution_count": null,
   "outputs": [
    {
     "output_type": "stream",
     "name": "stdout",
     "text": [
      "[1] 11종 혼합유산균\n",
      "기능성: 유산균 증식 및 유해균 억제·배변활동 원활에 도움을 줄 수 있음\n",
      "제조사: 일동바이오사이언스(주)\n",
      "섭취방법: 건강기능식품 원료로 사용\n",
      "보관방법: 냉장조건\n",
      "주의사항: 1. 질환이 있거나 의약품 복용 시 전문가와 상담하십시오.\n",
      "2. 알레르기 체질 등은 개인에 따라 과민반응을 나타낼 수 있습니다.\n",
      "3. 어린이가 함부로 섭취하지 않도록 일일섭취량 방법을 지도해 주십시오.\n",
      "4. 이상사례 발생 시 섭취를 중단하고 전문가와 상담하십시오.\n",
      "--------------------------------------------------\n",
      "[2] 6년근 고려홍삼정 PREMIUM\n",
      "기능성: ①면역력 증진②피로개선③혈소판 응집 억제를 통한 혈액흐름에 도움④기억력 개선⑤항산화에 도움을 줄 수 있음\n",
      "제조사: 주식회사 성윤 에프엔지(F&G)\n",
      "섭취방법: 1일 3회, 1회 1스푼(3.2g)씩  물에 녹여 섭취 하십시요.\n",
      "보관방법: 직사광선을 피해 건조하고 서늘한 곳에서 보관한다.\n",
      "주의사항: [홍삼제품]의약품(당뇨치료제, 혈액항응고제) 복용 시 섭취에 주의\r\n",
      "2) 특이체질등 알레르기 체질의 경우 제품성분을 확인 후 섭취하시기 바랍니다.\r\n",
      " 3) 15세 이하의 어린이는 상기 섭취량의 절반 정도를 섭취하시요.\r\n",
      " 4) 제품 개봉 또는 섭취시에 포장재로 인한 상처를 입을수 있으니주의 하십시오.\n",
      "--------------------------------------------------\n",
      "[3] 6년근 홍삼 자신만만 홍삼스틱\n",
      "기능성: ⑴ 면역력 증진에 도움을 줄 수 있음\n",
      "  ⑵ 피로개선에 도움을 줄 수 있음\n",
      "  ⑶ 혈소판 응집 억제를 통한 혈액흐름에 도움을 줄 수 있음\n",
      "  ⑷ 기억력 개선에 도움을 줄 수 있음\n",
      "  ⑸ 항산화에 도움을 줄 수 있음\n",
      "제조사: (주)일화\n",
      "섭취방법: 1일 1회, 1회 1포를 섭취하십시오.\n",
      "보관방법: 습기와 직사광선을 피하여 실온에 보관하시고, 개봉 후에는 반드시 냉장 보관하십시오.\n",
      "주의사항: ⑴ 특수체질이거나 알레르기 체질인 경우에는 섭취 전에 반드시 원료명 및 함량을 확인하시기 바랍니다.\n",
      "⑵ 제품 개봉 또는 섭취 시 포장재에 의한 상처에 주의하시기 바랍니다.\n",
      "⑶ 의약품(당뇨치료제, 혈액항응고제) 복용 시 섭취에 주의 하십시오.\n",
      "⑷ 유통기한이 경과된 제품은 섭취하지 마십시오.\n",
      "--------------------------------------------------\n"
     ]
    }
   ]
  },
  {
   "cell_type": "code",
   "source": [
    "print(len(product_list))"
   ],
   "metadata": {
    "colab": {
     "base_uri": "https://localhost:8080/"
    },
    "id": "9QFzzyby7TCb",
    "executionInfo": {
     "status": "ok",
     "timestamp": 1752563600575,
     "user_tz": -540,
     "elapsed": 25,
     "user": {
      "displayName": "서은선",
      "userId": "18036651550325765073"
     }
    },
    "outputId": "82003546-dc4f-4510-8fce-935ef237ef87"
   },
   "execution_count": 10,
   "outputs": [
    {
     "output_type": "stream",
     "name": "stdout",
     "text": [
      "10\n"
     ]
    }
   ]
  },
  {
   "cell_type": "markdown",
   "source": [
    "# document생성"
   ],
   "metadata": {
    "id": "ngO5fqr5vMnI"
   }
  },
  {
   "cell_type": "code",
   "source": [
    "from langchain.schema import Document\n",
    "\n",
    "def convert_to_documents(product_list):\n",
    "    docs = []\n",
    "\n",
    "    for product in product_list:\n",
    "        content = (\n",
    "            f\"제품명: {product['제품명']}\\n\"\n",
    "            f\"기능성: {product['기능성']}\\n\"\n",
    "            f\"섭취방법: {product['섭취방법']}\\n\"\n",
    "            f\"보관방법: {product['보관방법']}\\n\"\n",
    "            f\"주의사항: {product['주의사항']}\"\n",
    "        )\n",
    "\n",
    "        metadata = {\n",
    "            \"제품명\": product[\"제품명\"], # 중복으로 넣음\n",
    "            \"제조사\": product[\"제조사\"],\n",
    "        }\n",
    "\n",
    "        docs.append(Document(page_content=content, metadata=metadata))\n",
    "\n",
    "    return docs\n",
    "\n",
    "documents = convert_to_documents(product_list)"
   ],
   "metadata": {
    "collapsed": true,
    "id": "I0ecwbQOm9Ug",
    "executionInfo": {
     "status": "ok",
     "timestamp": 1752563178479,
     "user_tz": -540,
     "elapsed": 41,
     "user": {
      "displayName": "서은선",
      "userId": "18036651550325765073"
     }
    }
   },
   "execution_count": 6,
   "outputs": []
  },
  {
   "cell_type": "markdown",
   "source": [
    "# 임베딩"
   ],
   "metadata": {
    "id": "FEna-CNzx-Nt"
   }
  },
  {
   "cell_type": "code",
   "source": [
    "from pinecone import Pinecone\n",
    "from langchain_openai import OpenAIEmbeddings\n",
    "from langchain_pinecone import PineconeVectorStore\n",
    "\n",
    "pc = Pinecone(api_key=os.environ['PINECONE_API_KEY'])\n",
    "\n",
    "# 임베딩 모델\n",
    "embeddings = OpenAIEmbeddings(model=os.environ['OPENAI_EMBEDDING_MODEL'])\n",
    "\n",
    "# 벡터스토어 객체(client) 생성\n",
    "vector_store = PineconeVectorStore.from_documents(\n",
    "    documents,\n",
    "    embedding=embeddings,\n",
    "    index_name='healthcare'\n",
    ")"
   ],
   "metadata": {
    "id": "5RG9onJnyi-m",
    "executionInfo": {
     "status": "ok",
     "timestamp": 1752563307143,
     "user_tz": -540,
     "elapsed": 2029,
     "user": {
      "displayName": "서은선",
      "userId": "18036651550325765073"
     }
    }
   },
   "execution_count": 8,
   "outputs": []
  },
  {
   "cell_type": "markdown",
   "source": [
    "# Pinecone 저장"
   ],
   "metadata": {
    "id": "fLW5SzRcyAVN"
   }
  },
  {
   "cell_type": "code",
   "source": [
    "from langchain.vectorstore import pinecone\n",
    "\n"
   ],
   "metadata": {
    "id": "Eq4YwnrlyjSI"
   },
   "execution_count": null,
   "outputs": []
  },
  {
   "cell_type": "markdown",
   "source": [
    "# 쿼리 날려"
   ],
   "metadata": {
    "id": "W1oUfHfoyfvD"
   }
  },
  {
   "cell_type": "code",
   "source": [],
   "metadata": {
    "id": "zzyeyHtCyCeX"
   },
   "execution_count": null,
   "outputs": []
  }
 ]
}
